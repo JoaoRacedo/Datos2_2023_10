{
  "nbformat": 4,
  "nbformat_minor": 0,
  "metadata": {
    "colab": {
      "provenance": [],
      "authorship_tag": "ABX9TyOdWmNMYh00hiHwq2KJ0fD7",
      "include_colab_link": true
    },
    "kernelspec": {
      "name": "python3",
      "display_name": "Python 3"
    },
    "language_info": {
      "name": "python"
    }
  },
  "cells": [
    {
      "cell_type": "markdown",
      "metadata": {
        "id": "view-in-github",
        "colab_type": "text"
      },
      "source": [
        "<a href=\"https://colab.research.google.com/github/JoaoRacedo/Datos2_2023_10/blob/main/Searches_AC.ipynb\" target=\"_parent\"><img src=\"https://colab.research.google.com/assets/colab-badge.svg\" alt=\"Open In Colab\"/></a>"
      ]
    },
    {
      "cell_type": "markdown",
      "source": [
        "## import libraries"
      ],
      "metadata": {
        "id": "L6N9bED5_ISh"
      }
    },
    {
      "cell_type": "code",
      "execution_count": null,
      "metadata": {
        "id": "FwIw2x-U_EkH"
      },
      "outputs": [],
      "source": [
        "import numpy as np\n",
        "import matplotlib.pyplot as plt\n",
        "import seaborn as sns\n",
        "import time\n",
        "import itertools\n",
        "from mpl_toolkits.mplot3d import Axes3D\n",
        "import pandas as pd\n",
        "import plotly.express as px"
      ]
    },
    {
      "cell_type": "markdown",
      "source": [
        "## Searches"
      ],
      "metadata": {
        "id": "fK2Dr5Yn_P0h"
      }
    },
    {
      "cell_type": "markdown",
      "source": [
        "### Sequential/linear search\n",
        "```python\n",
        "Inicio\n",
        "  Entero vector[100], n, dato, i\n",
        "  para i = 1, i<=n, i<- i + 1\n",
        "    Si (dato = vector[i]) entonces\n",
        "    Escribir “El dato esta en el vector en la posicion ”+i\n",
        "  finpara\n",
        "Fin\n",
        "```"
      ],
      "metadata": {
        "id": "bo2fiDt5_Ruo"
      }
    },
    {
      "cell_type": "code",
      "source": [
        "def Linear_search(arr: list[int], value: int) -> bool:\n",
        "  n: int\n",
        "  n = len(arr)\n",
        "  for i in range(n):\n",
        "    if arr[i] == value:\n",
        "      return True\n",
        "\n",
        "  return False"
      ],
      "metadata": {
        "id": "6V7NmYVQ_240"
      },
      "execution_count": null,
      "outputs": []
    },
    {
      "cell_type": "markdown",
      "source": [
        "### Binary search\n",
        "```python\n",
        "Entero n,dato,V(),centro, inf, sup\n",
        "Logico sw=falso\n",
        "Lea n\n",
        "leerVector(V,n)\n",
        "ordenarVector(V,n)\n",
        "Lea dato\n",
        "inf <- 1\n",
        "sup <- n\n",
        "HH\n",
        "  centro <- (sup + inf) / 2\n",
        "  Si V(centro) = dato entonces\n",
        "    sw<-verdadero\n",
        "    Sino\n",
        "      Si dato < V(centro)\n",
        "        sup <- centro - 1\n",
        "      Sino\n",
        "        inf <- centro + 1\n",
        "    finSi\n",
        "  finSi\n",
        "FinHH (inf > sup o sw=verdadero)\n",
        "```"
      ],
      "metadata": {
        "id": "t4nvQw47_2dS"
      }
    },
    {
      "cell_type": "code",
      "source": [
        "def Binary_search(arr: list[int], value: int) -> bool:\n",
        "  low: int = 0\n",
        "  high: int = len(arr) - 1\n",
        "\n",
        "  while (low <= high):\n",
        "    middle: int = (low+high)//2\n",
        "    if (value < arr[middle]):\n",
        "      high = middle - 1\n",
        "    elif (value > arr[middle]):\n",
        "      low = middle + 1\n",
        "    else:\n",
        "      return True\n",
        "\n",
        "  return False"
      ],
      "metadata": {
        "id": "CaHBzNhjC_ZP"
      },
      "execution_count": null,
      "outputs": []
    },
    {
      "cell_type": "markdown",
      "source": [
        "### driver code"
      ],
      "metadata": {
        "id": "tVsjnb1KC3Yj"
      }
    },
    {
      "cell_type": "markdown",
      "source": [
        "Lets declare a random vector of some size `N_size`"
      ],
      "metadata": {
        "id": "F5upYmw3ChAS"
      }
    },
    {
      "cell_type": "code",
      "source": [
        "N_size = 16"
      ],
      "metadata": {
        "id": "70BW5rZDCvay"
      },
      "execution_count": null,
      "outputs": []
    },
    {
      "cell_type": "code",
      "source": [
        "np.random.seed(10)\n",
        "A = [np.random.randint(100) for i in range(N_size)]"
      ],
      "metadata": {
        "id": "i2CmV2Wj_PQq"
      },
      "execution_count": null,
      "outputs": []
    },
    {
      "cell_type": "code",
      "source": [
        "A"
      ],
      "metadata": {
        "colab": {
          "base_uri": "https://localhost:8080/"
        },
        "id": "0qzOMANZB2-N",
        "outputId": "eedec385-6b2e-46eb-ad85-70b6ee58bef2"
      },
      "execution_count": null,
      "outputs": [
        {
          "output_type": "execute_result",
          "data": {
            "text/plain": [
              "[9, 15, 64, 28, 89, 93, 29, 8, 73, 0, 40, 36, 16, 11, 54, 88]"
            ]
          },
          "metadata": {},
          "execution_count": 6
        }
      ]
    },
    {
      "cell_type": "code",
      "source": [
        "%%time\n",
        "Linear_search(A, 9)"
      ],
      "metadata": {
        "colab": {
          "base_uri": "https://localhost:8080/"
        },
        "id": "BuegMJW3CbVO",
        "outputId": "7a9e4254-a08b-4e93-cd03-c0bc664de3b7"
      },
      "execution_count": null,
      "outputs": [
        {
          "output_type": "stream",
          "name": "stdout",
          "text": [
            "CPU times: user 8 µs, sys: 2 µs, total: 10 µs\n",
            "Wall time: 13.6 µs\n"
          ]
        },
        {
          "output_type": "execute_result",
          "data": {
            "text/plain": [
              "True"
            ]
          },
          "metadata": {},
          "execution_count": 7
        }
      ]
    },
    {
      "cell_type": "code",
      "source": [
        "%%time\n",
        "Linear_search(A, 100)"
      ],
      "metadata": {
        "colab": {
          "base_uri": "https://localhost:8080/"
        },
        "id": "YSjYN_G-FEX4",
        "outputId": "ba7f1ec5-c16e-4e76-9d87-56c6e7bfe417"
      },
      "execution_count": null,
      "outputs": [
        {
          "output_type": "stream",
          "name": "stdout",
          "text": [
            "CPU times: user 10 µs, sys: 2 µs, total: 12 µs\n",
            "Wall time: 16.5 µs\n"
          ]
        },
        {
          "output_type": "execute_result",
          "data": {
            "text/plain": [
              "False"
            ]
          },
          "metadata": {},
          "execution_count": 8
        }
      ]
    },
    {
      "cell_type": "code",
      "source": [
        "A_copy = A.copy()\n",
        "A_copy.sort()"
      ],
      "metadata": {
        "id": "ZGrjkiZ9EnUe"
      },
      "execution_count": null,
      "outputs": []
    },
    {
      "cell_type": "code",
      "source": [
        "print(A_copy)"
      ],
      "metadata": {
        "colab": {
          "base_uri": "https://localhost:8080/"
        },
        "id": "-rEg4iDxErC9",
        "outputId": "b5a32b9d-713f-4167-e140-eba917ef9211"
      },
      "execution_count": null,
      "outputs": [
        {
          "output_type": "stream",
          "name": "stdout",
          "text": [
            "[0, 8, 9, 11, 15, 16, 28, 29, 36, 40, 54, 64, 73, 88, 89, 93]\n"
          ]
        }
      ]
    },
    {
      "cell_type": "code",
      "source": [
        "%%time\n",
        "Binary_search(A_copy, 9)"
      ],
      "metadata": {
        "colab": {
          "base_uri": "https://localhost:8080/"
        },
        "id": "NCQywsYrCdBZ",
        "outputId": "0b397f38-e67b-4371-cbcb-5adaafc72496"
      },
      "execution_count": null,
      "outputs": [
        {
          "output_type": "stream",
          "name": "stdout",
          "text": [
            "CPU times: user 10 µs, sys: 0 ns, total: 10 µs\n",
            "Wall time: 14.1 µs\n"
          ]
        },
        {
          "output_type": "execute_result",
          "data": {
            "text/plain": [
              "True"
            ]
          },
          "metadata": {},
          "execution_count": 11
        }
      ]
    },
    {
      "cell_type": "code",
      "source": [
        "%%time\n",
        "Binary_search(A_copy, 100)"
      ],
      "metadata": {
        "colab": {
          "base_uri": "https://localhost:8080/"
        },
        "id": "1qWKdUDqDsS6",
        "outputId": "e4429030-fcef-4e63-9248-567d70bf9b0d"
      },
      "execution_count": null,
      "outputs": [
        {
          "output_type": "stream",
          "name": "stdout",
          "text": [
            "CPU times: user 11 µs, sys: 0 ns, total: 11 µs\n",
            "Wall time: 15.7 µs\n"
          ]
        },
        {
          "output_type": "execute_result",
          "data": {
            "text/plain": [
              "False"
            ]
          },
          "metadata": {},
          "execution_count": 12
        }
      ]
    },
    {
      "cell_type": "markdown",
      "source": [
        "----------------"
      ],
      "metadata": {
        "id": "h8D5EG6zFNbQ"
      }
    },
    {
      "cell_type": "code",
      "source": [
        "N_size = 1000\n",
        "int_size = 100\n",
        "np.random.seed(10)\n",
        "A = [np.random.randint(int_size) for i in range(N_size)]"
      ],
      "metadata": {
        "id": "jwN6xXziFM8k"
      },
      "execution_count": null,
      "outputs": []
    },
    {
      "cell_type": "code",
      "source": [
        "%%time\n",
        "Linear_search(A, 9)"
      ],
      "metadata": {
        "colab": {
          "base_uri": "https://localhost:8080/"
        },
        "id": "DMklvR8FFHUd",
        "outputId": "559c8a5b-c0c5-4909-bfc3-6eca8bf1274e"
      },
      "execution_count": null,
      "outputs": [
        {
          "output_type": "stream",
          "name": "stdout",
          "text": [
            "CPU times: user 6 µs, sys: 1e+03 ns, total: 7 µs\n",
            "Wall time: 12.4 µs\n"
          ]
        },
        {
          "output_type": "execute_result",
          "data": {
            "text/plain": [
              "True"
            ]
          },
          "metadata": {},
          "execution_count": 14
        }
      ]
    },
    {
      "cell_type": "code",
      "source": [
        "A_copy = A.copy()\n",
        "A_copy.sort()"
      ],
      "metadata": {
        "id": "57WSS3q0FU-1"
      },
      "execution_count": null,
      "outputs": []
    },
    {
      "cell_type": "code",
      "source": [
        "%%time\n",
        "Binary_search(A_copy, 9)"
      ],
      "metadata": {
        "colab": {
          "base_uri": "https://localhost:8080/"
        },
        "id": "VvopTCsgFVWh",
        "outputId": "0c2e198c-dc71-4aa4-c121-c87cd98d634f"
      },
      "execution_count": null,
      "outputs": [
        {
          "output_type": "stream",
          "name": "stdout",
          "text": [
            "CPU times: user 14 µs, sys: 3 µs, total: 17 µs\n",
            "Wall time: 20.7 µs\n"
          ]
        },
        {
          "output_type": "execute_result",
          "data": {
            "text/plain": [
              "True"
            ]
          },
          "metadata": {},
          "execution_count": 16
        }
      ]
    },
    {
      "cell_type": "markdown",
      "source": [
        "-------------------"
      ],
      "metadata": {
        "id": "WNX_mojMF_Bp"
      }
    },
    {
      "cell_type": "code",
      "source": [
        "N_size = 1000000\n",
        "int_size = 100000\n",
        "search_size = 100\n",
        "\n",
        "np.random.seed(10)\n",
        "A = [np.random.randint(int_size) for i in range(N_size)]\n",
        "A_to_search = [np.random.randint(int_size) for i in range(search_size)]"
      ],
      "metadata": {
        "id": "kzM0ncztFZCf"
      },
      "execution_count": null,
      "outputs": []
    },
    {
      "cell_type": "markdown",
      "source": [
        "#### Linear search experiment"
      ],
      "metadata": {
        "id": "l9MDAllYIcZe"
      }
    },
    {
      "cell_type": "code",
      "source": [
        "promedio_encontrado: float = 0\n",
        "promedio_no_encontrado: float = 0\n",
        "n_found: int = 0\n",
        "n_not_found: int = 0"
      ],
      "metadata": {
        "id": "YDdYBopWGHqE"
      },
      "execution_count": null,
      "outputs": []
    },
    {
      "cell_type": "code",
      "source": [
        "result: bool\n",
        "for value in A_to_search:\n",
        "  start_time = time.time()\n",
        "  result = Linear_search(A, value)\n",
        "  end_time = time.time()\n",
        "\n",
        "  if result == False:\n",
        "    promedio_no_encontrado += (end_time - start_time)\n",
        "    n_not_found += 1\n",
        "  else:\n",
        "    promedio_encontrado += (end_time - start_time)\n",
        "    n_found += 1"
      ],
      "metadata": {
        "id": "HEnod4kgGXd4"
      },
      "execution_count": null,
      "outputs": []
    },
    {
      "cell_type": "code",
      "source": [
        "print(\"Linear search\")\n",
        "if (n_not_found != 0):\n",
        "  print(f\"counter of not found is: {n_not_found}\")\n",
        "  print(f\"Mean time of not found is: {promedio_no_encontrado/n_not_found}\")\n",
        "else:\n",
        "  print(\"all number were found\")\n",
        "\n",
        "if (n_found != 0):\n",
        "  print(f\"counter of found is: {n_found}\")\n",
        "  print(f\"Mean time of found is: {promedio_encontrado/n_found}\")\n",
        "else:\n",
        "  print(\"all number not found\")"
      ],
      "metadata": {
        "colab": {
          "base_uri": "https://localhost:8080/"
        },
        "id": "bTbsY9tzHy0g",
        "outputId": "183db7ef-b520-4d8b-bedf-d38da75fe6c1"
      },
      "execution_count": null,
      "outputs": [
        {
          "output_type": "stream",
          "name": "stdout",
          "text": [
            "Linear search\n",
            "all number were found\n",
            "counter of found is: 100\n",
            "Mean time of found is: 0.016440818309783934\n"
          ]
        }
      ]
    },
    {
      "cell_type": "markdown",
      "source": [
        "#### Binary search experiment"
      ],
      "metadata": {
        "id": "GxWQ-HOXIgR6"
      }
    },
    {
      "cell_type": "code",
      "source": [
        "A_copy = A.copy()\n",
        "A_copy.sort()"
      ],
      "metadata": {
        "id": "gNdukJe0IqBt"
      },
      "execution_count": null,
      "outputs": []
    },
    {
      "cell_type": "code",
      "source": [
        "promedio_encontrado: float = 0\n",
        "promedio_no_encontrado: float = 0\n",
        "n_found: int = 0\n",
        "n_not_found: int = 0"
      ],
      "metadata": {
        "id": "-1Pf98tEIULQ"
      },
      "execution_count": null,
      "outputs": []
    },
    {
      "cell_type": "code",
      "source": [
        "result: bool\n",
        "for value in A_to_search:\n",
        "  start_time = time.time()\n",
        "  result = Binary_search(A_copy, value)\n",
        "  end_time = time.time()\n",
        "\n",
        "  if result == False:\n",
        "    promedio_no_encontrado += (end_time - start_time)\n",
        "    n_not_found += 1\n",
        "  else:\n",
        "    promedio_encontrado += (end_time - start_time)\n",
        "    n_found += 1"
      ],
      "metadata": {
        "id": "968XNEBJIjg5"
      },
      "execution_count": null,
      "outputs": []
    },
    {
      "cell_type": "code",
      "source": [
        "print(\"Binary search\")\n",
        "if (n_not_found != 0):\n",
        "  print(f\"counter of not found is: {n_not_found}\")\n",
        "  print(f\"Mean time of not found is: {promedio_no_encontrado/n_not_found}\")\n",
        "else:\n",
        "  print(\"all number were found\")\n",
        "\n",
        "if (n_found != 0):\n",
        "  print(f\"counter of found is: {n_found}\")\n",
        "  print(f\"Mean time of found is: {promedio_encontrado/n_found}\")\n",
        "else:\n",
        "  print(\"all number not found\")"
      ],
      "metadata": {
        "colab": {
          "base_uri": "https://localhost:8080/"
        },
        "id": "ovZ0k9JbI7qD",
        "outputId": "d0260e81-0ab0-4f83-ffaf-f8e4567df9af"
      },
      "execution_count": null,
      "outputs": [
        {
          "output_type": "stream",
          "name": "stdout",
          "text": [
            "Binary search\n",
            "all number were found\n",
            "counter of found is: 100\n",
            "Mean time of found is: 1.600027084350586e-05\n"
          ]
        }
      ]
    },
    {
      "cell_type": "markdown",
      "source": [
        "### More experiments"
      ],
      "metadata": {
        "id": "xoli-oY8J54n"
      }
    },
    {
      "cell_type": "code",
      "source": [
        "np.random.seed(10)"
      ],
      "metadata": {
        "id": "Ahue8H3zKUH7"
      },
      "execution_count": null,
      "outputs": []
    },
    {
      "cell_type": "code",
      "source": [
        "N_size = [100, 1000, 10000, 100000, 1000000]\n",
        "int_size = [100, 1000, 10000]\n",
        "search_size = [100, 1000, 1000]\n",
        "list_a = [N_size, int_size, search_size]\n",
        "combinations = list(itertools.product(*list_a))"
      ],
      "metadata": {
        "id": "Zc7qGu95I9-Y"
      },
      "execution_count": null,
      "outputs": []
    },
    {
      "cell_type": "code",
      "source": [
        "combinations"
      ],
      "metadata": {
        "colab": {
          "base_uri": "https://localhost:8080/"
        },
        "id": "dmBoPgj9Ldg1",
        "outputId": "94df2a72-f855-4c2b-9123-cdb72ab8b85b"
      },
      "execution_count": null,
      "outputs": [
        {
          "output_type": "execute_result",
          "data": {
            "text/plain": [
              "[(100, 100, 100),\n",
              " (100, 100, 1000),\n",
              " (100, 100, 1000),\n",
              " (100, 1000, 100),\n",
              " (100, 1000, 1000),\n",
              " (100, 1000, 1000),\n",
              " (100, 10000, 100),\n",
              " (100, 10000, 1000),\n",
              " (100, 10000, 1000),\n",
              " (1000, 100, 100),\n",
              " (1000, 100, 1000),\n",
              " (1000, 100, 1000),\n",
              " (1000, 1000, 100),\n",
              " (1000, 1000, 1000),\n",
              " (1000, 1000, 1000),\n",
              " (1000, 10000, 100),\n",
              " (1000, 10000, 1000),\n",
              " (1000, 10000, 1000),\n",
              " (10000, 100, 100),\n",
              " (10000, 100, 1000),\n",
              " (10000, 100, 1000),\n",
              " (10000, 1000, 100),\n",
              " (10000, 1000, 1000),\n",
              " (10000, 1000, 1000),\n",
              " (10000, 10000, 100),\n",
              " (10000, 10000, 1000),\n",
              " (10000, 10000, 1000),\n",
              " (100000, 100, 100),\n",
              " (100000, 100, 1000),\n",
              " (100000, 100, 1000),\n",
              " (100000, 1000, 100),\n",
              " (100000, 1000, 1000),\n",
              " (100000, 1000, 1000),\n",
              " (100000, 10000, 100),\n",
              " (100000, 10000, 1000),\n",
              " (100000, 10000, 1000),\n",
              " (1000000, 100, 100),\n",
              " (1000000, 100, 1000),\n",
              " (1000000, 100, 1000),\n",
              " (1000000, 1000, 100),\n",
              " (1000000, 1000, 1000),\n",
              " (1000000, 1000, 1000),\n",
              " (1000000, 10000, 100),\n",
              " (1000000, 10000, 1000),\n",
              " (1000000, 10000, 1000)]"
            ]
          },
          "metadata": {},
          "execution_count": 54
        }
      ]
    },
    {
      "cell_type": "markdown",
      "source": [
        "#### Linear search "
      ],
      "metadata": {
        "id": "RLJjDkG1J90H"
      }
    },
    {
      "cell_type": "code",
      "source": [
        "results_linear_search = []\n",
        "for N_size_value, int_size_value, search_size_value in combinations:\n",
        "\n",
        "  A = [np.random.randint(int_size_value) for i in range(N_size_value)]\n",
        "  A_to_search = [np.random.randint(int_size_value) for i in range(search_size_value)]\n",
        "\n",
        "  promedio_encontrado: float = 0\n",
        "  promedio_no_encontrado: float = 0\n",
        "  n_found: int = 0\n",
        "  n_not_found: int = 0\n",
        "\n",
        "  result: bool\n",
        "  for value in A_to_search:\n",
        "    start_time = time.time()\n",
        "    result = Linear_search(A, value)\n",
        "    end_time = time.time()\n",
        "\n",
        "    if result == False:\n",
        "      promedio_no_encontrado += (end_time - start_time)\n",
        "      n_not_found += 1\n",
        "    else:\n",
        "      promedio_encontrado += (end_time - start_time)\n",
        "      n_found += 1\n",
        "  \n",
        "  if (n_found != 0):\n",
        "    mean = promedio_encontrado/n_found\n",
        "  else:\n",
        "    mean = -1\n",
        "  results_linear_search.append([N_size_value, int_size_value, search_size_value, mean])"
      ],
      "metadata": {
        "id": "lLnloRumKFCL"
      },
      "execution_count": null,
      "outputs": []
    },
    {
      "cell_type": "code",
      "source": [
        "results_linear_search"
      ],
      "metadata": {
        "colab": {
          "base_uri": "https://localhost:8080/"
        },
        "id": "lbKBbjm_MWHy",
        "outputId": "582b8dea-33ac-405c-9603-dea555d30a4d"
      },
      "execution_count": null,
      "outputs": [
        {
          "output_type": "execute_result",
          "data": {
            "text/plain": [
              "[[100, 100, 100, 5.597653596297555e-06],\n",
              " [100, 100, 1000, 1.3025410204048617e-05],\n",
              " [100, 100, 1000, 5.2954874882081735e-06],\n",
              " [100, 1000, 100, 7.445995624248798e-06],\n",
              " [100, 1000, 1000, 6.06557374359459e-06],\n",
              " [100, 1000, 1000, 6.638535665809561e-06],\n",
              " [100, 10000, 100, 5.0067901611328125e-06],\n",
              " [100, 10000, 1000, 6.496906280517578e-06],\n",
              " [100, 10000, 1000, 6.993611653645833e-06],\n",
              " [1000, 100, 100, 1.285552978515625e-05],\n",
              " [1000, 100, 1000, 1.3886213302612305e-05],\n",
              " [1000, 100, 1000, 1.195383071899414e-05],\n",
              " [1000, 1000, 100, 5.427617875356523e-05],\n",
              " [1000, 1000, 1000, 7.443005424678127e-05],\n",
              " [1000, 1000, 1000, 4.967538321890482e-05],\n",
              " [1000, 10000, 100, 7.335344950358073e-05],\n",
              " [1000, 10000, 1000, 4.725499984321244e-05],\n",
              " [1000, 10000, 1000, 6.383115595037287e-05],\n",
              " [10000, 100, 100, 9.703636169433594e-06],\n",
              " [10000, 100, 1000, 1.082611083984375e-05],\n",
              " [10000, 100, 1000, 1.0612249374389649e-05],\n",
              " [10000, 1000, 100, 0.00012402057647705077],\n",
              " [10000, 1000, 1000, 5.8821678161621096e-05],\n",
              " [10000, 1000, 1000, 6.285309791564941e-05],\n",
              " [10000, 10000, 100, 0.0004048645496368408],\n",
              " [10000, 10000, 1000, 0.00027172428787134253],\n",
              " [10000, 10000, 1000, 0.00028384984678523554],\n",
              " [100000, 100, 100, 5.292892456054687e-06],\n",
              " [100000, 100, 1000, 1.095438003540039e-05],\n",
              " [100000, 100, 1000, 6.000518798828125e-06],\n",
              " [100000, 1000, 100, 5.438804626464844e-05],\n",
              " [100000, 1000, 1000, 0.00033504366874694826],\n",
              " [100000, 1000, 1000, 6.031918525695801e-05],\n",
              " [100000, 10000, 100, 0.0020776128768920897],\n",
              " [100000, 10000, 1000, 0.0012908897399902344],\n",
              " [100000, 10000, 1000, 0.0006633706092834473],\n",
              " [1000000, 100, 100, 5.745887756347657e-06],\n",
              " [1000000, 100, 1000, 6.680488586425781e-06],\n",
              " [1000000, 100, 1000, 5.733489990234375e-06],\n",
              " [1000000, 1000, 100, 4.9664974212646485e-05],\n",
              " [1000000, 1000, 1000, 6.103348731994629e-05],\n",
              " [1000000, 1000, 1000, 6.010293960571289e-05],\n",
              " [1000000, 10000, 100, 0.0006418395042419434],\n",
              " [1000000, 10000, 1000, 0.0006662137508392334],\n",
              " [1000000, 10000, 1000, 0.0007805120944976806]]"
            ]
          },
          "metadata": {},
          "execution_count": 56
        }
      ]
    },
    {
      "cell_type": "markdown",
      "source": [
        "#### Binary search"
      ],
      "metadata": {
        "id": "K-t5VIcgQLmG"
      }
    },
    {
      "cell_type": "code",
      "source": [
        "results_binary_search = []\n",
        "for N_size_value, int_size_value, search_size_value in combinations:\n",
        "\n",
        "  A = [np.random.randint(int_size_value) for i in range(N_size_value)]\n",
        "  A_to_search = [np.random.randint(int_size_value) for i in range(search_size_value)]\n",
        "  A_copy = A.copy()\n",
        "  A_copy.sort()\n",
        "  promedio_encontrado: float = 0\n",
        "  promedio_no_encontrado: float = 0\n",
        "  n_found: int = 0\n",
        "  n_not_found: int = 0\n",
        "\n",
        "  result: bool\n",
        "  for value in A_to_search:\n",
        "    start_time = time.time()\n",
        "    result = Binary_search(A_copy, value)\n",
        "    end_time = time.time()\n",
        "\n",
        "    if result == False:\n",
        "      promedio_no_encontrado += (end_time - start_time)\n",
        "      n_not_found += 1\n",
        "    else:\n",
        "      promedio_encontrado += (end_time - start_time)\n",
        "      n_found += 1\n",
        "  \n",
        "  if (n_found != 0):\n",
        "    mean = promedio_encontrado/n_found\n",
        "  else:\n",
        "    mean = -1\n",
        "  results_binary_search.append([N_size_value, int_size_value, search_size_value, mean])"
      ],
      "metadata": {
        "id": "7AIevnQBOwmY"
      },
      "execution_count": null,
      "outputs": []
    },
    {
      "cell_type": "code",
      "source": [
        "results_binary_search"
      ],
      "metadata": {
        "colab": {
          "base_uri": "https://localhost:8080/"
        },
        "id": "zBLdRoNpPsiS",
        "outputId": "0ef084b8-28a6-4c29-dacf-79a529f44639"
      },
      "execution_count": null,
      "outputs": [
        {
          "output_type": "execute_result",
          "data": {
            "text/plain": [
              "[[100, 100, 100, 1.9642844128964554e-06],\n",
              " [100, 100, 1000, 1.397387083974909e-06],\n",
              " [100, 100, 1000, 2.341262642568535e-06],\n",
              " [100, 1000, 100, 2.1696090698242187e-06],\n",
              " [100, 1000, 1000, 1.3873690650576636e-06],\n",
              " [100, 1000, 1000, 1.4412269163667486e-06],\n",
              " [100, 10000, 100, 1.3510386149088542e-06],\n",
              " [100, 10000, 1000, 1.2602124895368303e-06],\n",
              " [100, 10000, 1000, 1.3871626420454546e-06],\n",
              " [1000, 100, 100, 1.7285346984863281e-06],\n",
              " [1000, 100, 1000, 1.5380382537841796e-06],\n",
              " [1000, 100, 1000, 1.5082359313964843e-06],\n",
              " [1000, 1000, 100, 2.5770243476418887e-06],\n",
              " [1000, 1000, 1000, 2.155041192300509e-06],\n",
              " [1000, 1000, 1000, 2.1993221340084236e-06],\n",
              " [1000, 10000, 100, 2.2172927856445314e-06],\n",
              " [1000, 10000, 1000, 2.2624929745992026e-06],\n",
              " [1000, 10000, 1000, 2.2372534108716388e-06],\n",
              " [10000, 100, 100, 1.6283988952636719e-06],\n",
              " [10000, 100, 1000, 1.5368461608886718e-06],\n",
              " [10000, 100, 1000, 1.544952392578125e-06],\n",
              " [10000, 1000, 100, 2.4056434631347656e-06],\n",
              " [10000, 1000, 1000, 2.494335174560547e-06],\n",
              " [10000, 1000, 1000, 2.3140907287597655e-06],\n",
              " [10000, 10000, 100, 3.0921055720402644e-06],\n",
              " [10000, 10000, 1000, 2.936865727236376e-06],\n",
              " [10000, 10000, 1000, 2.8062054491418552e-06],\n",
              " [100000, 100, 100, 1.7285346984863281e-06],\n",
              " [100000, 100, 1000, 1.5654563903808593e-06],\n",
              " [100000, 100, 1000, 1.569509506225586e-06],\n",
              " [100000, 1000, 100, 2.6178359985351564e-06],\n",
              " [100000, 1000, 1000, 5.098104476928711e-06],\n",
              " [100000, 1000, 1000, 2.2988319396972655e-06],\n",
              " [100000, 10000, 100, 3.6334991455078126e-06],\n",
              " [100000, 10000, 1000, 3.883838653564453e-06],\n",
              " [100000, 10000, 1000, 3.729104995727539e-06],\n",
              " [1000000, 100, 100, 2.0885467529296874e-06],\n",
              " [1000000, 100, 1000, 3.2393932342529296e-06],\n",
              " [1000000, 100, 1000, 2.4425983428955076e-06],\n",
              " [1000000, 1000, 100, 4.665851593017578e-06],\n",
              " [1000000, 1000, 1000, 4.710197448730469e-06],\n",
              " [1000000, 1000, 1000, 2.869606018066406e-06],\n",
              " [1000000, 10000, 100, 6.372928619384766e-06],\n",
              " [1000000, 10000, 1000, 4.27699089050293e-06],\n",
              " [1000000, 10000, 1000, 6.861209869384765e-06]]"
            ]
          },
          "metadata": {},
          "execution_count": 58
        }
      ]
    }
  ]
}