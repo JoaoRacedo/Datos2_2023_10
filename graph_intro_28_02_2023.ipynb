{
  "nbformat": 4,
  "nbformat_minor": 0,
  "metadata": {
    "colab": {
      "provenance": [],
      "authorship_tag": "ABX9TyPcelCfkibYAHty1wHn7U4O"
    },
    "kernelspec": {
      "name": "python3",
      "display_name": "Python 3"
    },
    "language_info": {
      "name": "python"
    }
  },
  "cells": [
    {
      "cell_type": "markdown",
      "source": [
        "## tree objects"
      ],
      "metadata": {
        "id": "adP72rAygeS1"
      }
    },
    {
      "cell_type": "code",
      "source": [
        "import pprint\n",
        "from collections import defaultdict"
      ],
      "metadata": {
        "id": "TnYEBFUejmFF"
      },
      "execution_count": null,
      "outputs": []
    },
    {
      "cell_type": "code",
      "source": [
        "class Graph:\n",
        "  \"\"\" Graph data structure, undirected by default. \"\"\"\n",
        "\n",
        "  def __init__(self, aristas, directed=False):\n",
        "    self._graph = defaultdict(set)\n",
        "    self._directed = directed\n",
        "    if aristas is not None:\n",
        "      self.add_arista(aristas)\n",
        "\n",
        "  def add_arista(self, aristas):\n",
        "    \"\"\" Add arista (list of tuple pairs) to graph \"\"\"\n",
        "    for node1, node2 in aristas:\n",
        "        self.add_connection(node1, node2)\n",
        "\n",
        "  def add_connection(self, node1, node2):\n",
        "    \"\"\" Add connection between node1 and node2 \"\"\"\n",
        "    self._graph[node1].add(node2)\n",
        "    if not self._directed:\n",
        "        self._graph[node2].add(node1)\n",
        "\n",
        "  def remove(self, node):\n",
        "    \"\"\" Remove all references to node \"\"\"\n",
        "    ## First by connections to the nodo\n",
        "    for n, searched_node in self._graph.items():\n",
        "      try:\n",
        "        searched_node.remove(node)\n",
        "      except KeyError:\n",
        "        pass\n",
        "    ## then the node itself\n",
        "    try:\n",
        "      del self._graph[node]\n",
        "    except KeyError:\n",
        "      pass\n",
        "\n",
        "  def is_connected(self, node1, node2):\n",
        "    \"\"\" Is node1 directly connected to node2 \"\"\"\n",
        "    return node1 in self._graph and node2 in self._graph[node1]\n",
        "\n",
        "  def __str__(self):\n",
        "    return '{}({})'.format(self.__class__.__name__, dict(self._graph))"
      ],
      "metadata": {
        "id": "Q5Wz1T0TggSH"
      },
      "execution_count": null,
      "outputs": []
    },
    {
      "cell_type": "code",
      "source": [
        "connections = [('A', 'B'), ('B', 'C'), ('B', 'D'),\n",
        "               ('C', 'D'), ('E', 'F'), ('F', 'C')]\n",
        "\n",
        "g = Graph(connections, directed=True)\n",
        "pretty_print = pprint.PrettyPrinter()\n",
        "pretty_print.pprint(g._graph)"
      ],
      "metadata": {
        "colab": {
          "base_uri": "https://localhost:8080/"
        },
        "id": "MrH1szJemcgp",
        "outputId": "c09cee36-b898-48db-da91-e079e54907cb"
      },
      "execution_count": null,
      "outputs": [
        {
          "output_type": "stream",
          "name": "stdout",
          "text": [
            "defaultdict(<class 'set'>,\n",
            "            {'A': {'B'},\n",
            "             'B': {'C', 'D'},\n",
            "             'C': {'D'},\n",
            "             'E': {'F'},\n",
            "             'F': {'C'}})\n"
          ]
        }
      ]
    },
    {
      "cell_type": "code",
      "source": [
        "g.add_connection('E', 'A')\n",
        "pretty_print.pprint(g._graph)"
      ],
      "metadata": {
        "colab": {
          "base_uri": "https://localhost:8080/"
        },
        "id": "wI4KsiTnmpzN",
        "outputId": "c11196d2-e223-4440-f1f4-1f388ebbd768"
      },
      "execution_count": null,
      "outputs": [
        {
          "output_type": "stream",
          "name": "stdout",
          "text": [
            "defaultdict(<class 'set'>,\n",
            "            {'A': {'B'},\n",
            "             'B': {'C', 'D'},\n",
            "             'C': {'D'},\n",
            "             'E': {'F', 'A'},\n",
            "             'F': {'C'}})\n"
          ]
        }
      ]
    },
    {
      "cell_type": "code",
      "source": [
        "g.remove('A')\n",
        "pretty_print.pprint(g._graph)"
      ],
      "metadata": {
        "colab": {
          "base_uri": "https://localhost:8080/"
        },
        "id": "2EggQqIhneWh",
        "outputId": "bc960cfe-ec77-4203-e28f-d79b26f523de"
      },
      "execution_count": null,
      "outputs": [
        {
          "output_type": "stream",
          "name": "stdout",
          "text": [
            "defaultdict(<class 'set'>,\n",
            "            {'B': {'C', 'D'},\n",
            "             'C': {'D'},\n",
            "             'E': {'F'},\n",
            "             'F': {'C'}})\n"
          ]
        }
      ]
    },
    {
      "cell_type": "code",
      "source": [
        "g.add_connection('G', 'B')\n",
        "pretty_print.pprint(g._graph)"
      ],
      "metadata": {
        "colab": {
          "base_uri": "https://localhost:8080/"
        },
        "id": "fbz-Zuo5nnm8",
        "outputId": "b7e52ce1-f64e-4e18-ccb4-89e61fcae20b"
      },
      "execution_count": null,
      "outputs": [
        {
          "output_type": "stream",
          "name": "stdout",
          "text": [
            "defaultdict(<class 'set'>,\n",
            "            {'B': {'C', 'D'},\n",
            "             'C': {'D'},\n",
            "             'E': {'F'},\n",
            "             'F': {'C'},\n",
            "             'G': {'B'}})\n"
          ]
        }
      ]
    },
    {
      "cell_type": "markdown",
      "source": [
        "otra forma: https://medium.com/geekculture/how-to-represent-a-graph-data-structure-in-python-9f0df57e33a2"
      ],
      "metadata": {
        "id": "cyW0_4SUvHej"
      }
    }
  ]
}