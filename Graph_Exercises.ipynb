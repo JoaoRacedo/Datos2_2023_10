{
  "nbformat": 4,
  "nbformat_minor": 0,
  "metadata": {
    "colab": {
      "provenance": [],
      "collapsed_sections": [
        "BN80daX4PVgM"
      ],
      "authorship_tag": "ABX9TyPYaUkM8R3MUVhj/CUoXNX/",
      "include_colab_link": true
    },
    "kernelspec": {
      "name": "python3",
      "display_name": "Python 3"
    },
    "language_info": {
      "name": "python"
    }
  },
  "cells": [
    {
      "cell_type": "markdown",
      "metadata": {
        "id": "view-in-github",
        "colab_type": "text"
      },
      "source": [
        "<a href=\"https://colab.research.google.com/github/JoaoRacedo/Datos2_2023_10/blob/main/Graph_Exercises.ipynb\" target=\"_parent\"><img src=\"https://colab.research.google.com/assets/colab-badge.svg\" alt=\"Open In Colab\"/></a>"
      ]
    },
    {
      "cell_type": "code",
      "execution_count": null,
      "metadata": {
        "id": "V64RxG6uAqq5"
      },
      "outputs": [],
      "source": [
        "import random as rnd\n",
        "import numpy as np\n",
        "import seaborn as sns\n",
        "import pprint\n",
        "import networkx as nx\n",
        "import matplotlib.pyplot as plt"
      ]
    },
    {
      "cell_type": "markdown",
      "source": [
        "# 1."
      ],
      "metadata": {
        "id": "WfLt3Hn-BIq5"
      }
    },
    {
      "cell_type": "code",
      "source": [
        "rnd.seed(3)\n",
        "M = np.zeros((10, 10))\n",
        "for i in range(10):\n",
        "  for j in range(10):\n",
        "    M[i,j] = rnd.randint(0,1)"
      ],
      "metadata": {
        "id": "YXReOX6cAvoD"
      },
      "execution_count": null,
      "outputs": []
    },
    {
      "cell_type": "code",
      "source": [
        "pprint.pprint(M)"
      ],
      "metadata": {
        "colab": {
          "base_uri": "https://localhost:8080/"
        },
        "id": "oU8zhCJXA0w_",
        "outputId": "80566201-2186-4efa-d59b-ed82584400da"
      },
      "execution_count": null,
      "outputs": [
        {
          "output_type": "stream",
          "name": "stdout",
          "text": [
            "array([[0., 0., 1., 1., 0., 0., 1., 1., 0., 0.],\n",
            "       [1., 1., 1., 0., 0., 0., 1., 0., 0., 0.],\n",
            "       [0., 1., 0., 1., 1., 1., 1., 1., 1., 0.],\n",
            "       [1., 0., 0., 0., 1., 0., 1., 1., 1., 1.],\n",
            "       [1., 1., 1., 0., 1., 0., 1., 0., 1., 0.],\n",
            "       [0., 1., 1., 0., 0., 1., 1., 0., 1., 0.],\n",
            "       [1., 0., 0., 1., 1., 1., 0., 0., 0., 1.],\n",
            "       [1., 1., 0., 0., 1., 0., 0., 0., 0., 0.],\n",
            "       [1., 1., 1., 0., 0., 1., 1., 1., 0., 1.],\n",
            "       [1., 1., 1., 0., 1., 1., 0., 1., 1., 1.]])\n"
          ]
        }
      ]
    },
    {
      "cell_type": "code",
      "source": [
        "sns.heatmap(M, cmap='Greens')"
      ],
      "metadata": {
        "colab": {
          "base_uri": "https://localhost:8080/",
          "height": 286
        },
        "id": "18B89DS3A7eb",
        "outputId": "f3e04799-92ea-4c4e-a784-f9fc57975e3d"
      },
      "execution_count": null,
      "outputs": [
        {
          "output_type": "execute_result",
          "data": {
            "text/plain": [
              "<AxesSubplot:>"
            ]
          },
          "metadata": {},
          "execution_count": 4
        },
        {
          "output_type": "display_data",
          "data": {
            "text/plain": [
              "<Figure size 432x288 with 2 Axes>"
            ],
            "image/png": "[encoded data removed]"
          },
          "metadata": {
            "needs_background": "light"
          }
        }
      ]
    },
    {
      "cell_type": "markdown",
      "source": [
        "## Diseñe un algoritmo que permita contar el número de islas:\n",
        "\n",
        "1. Se considera isla a un grupo (clúster) de unos bajo la condición (←, →, ⇑, ↓)\n",
        "2. Una isla puede ser un solo elemento\n",
        "3. Puede asumir que los extremos estan rodeados de agua"
      ],
      "metadata": {
        "id": "q_61YES1BHaR"
      }
    },
    {
      "cell_type": "markdown",
      "source": [
        "Inserte todas las celdas de código que considere necesarias"
      ],
      "metadata": {
        "id": "d0E5uGcjBvyK"
      }
    },
    {
      "cell_type": "code",
      "source": [],
      "metadata": {
        "id": "IoD_6Is2BEeQ"
      },
      "execution_count": null,
      "outputs": []
    },
    {
      "cell_type": "markdown",
      "source": [
        "# 2."
      ],
      "metadata": {
        "id": "lGCLn-6iDXYO"
      }
    },
    {
      "cell_type": "code",
      "source": [
        "rnd.seed(10)\n",
        "M = np.zeros((5, 5))\n",
        "for i in range(5):\n",
        "  for j in range(5):\n",
        "    M[i,j] = rnd.randint(0,1)"
      ],
      "metadata": {
        "id": "8iKlmO3UDX-9"
      },
      "execution_count": null,
      "outputs": []
    },
    {
      "cell_type": "code",
      "source": [
        "pprint.pprint(M)"
      ],
      "metadata": {
        "colab": {
          "base_uri": "https://localhost:8080/"
        },
        "id": "1hs9I28kDfYP",
        "outputId": "9058468e-79f9-4d75-eccc-9e6f24c99736"
      },
      "execution_count": null,
      "outputs": [
        {
          "output_type": "stream",
          "name": "stdout",
          "text": [
            "array([[0., 1., 1., 0., 0.],\n",
            "       [1., 1., 1., 0., 0.],\n",
            "       [1., 1., 0., 0., 1.],\n",
            "       [0., 1., 0., 1., 1.],\n",
            "       [1., 1., 1., 1., 0.]])\n"
          ]
        }
      ]
    },
    {
      "cell_type": "code",
      "source": [
        "sns.heatmap(M, cmap='gist_gray_r', annot=True, xticklabels = ['A','B','C','D','E'], yticklabels = ['A','B','C','D','E'])"
      ],
      "metadata": {
        "colab": {
          "base_uri": "https://localhost:8080/",
          "height": 286
        },
        "id": "5SVViz8yDf4l",
        "outputId": "1239d6ac-375c-4972-83dc-a6a5f37fb967"
      },
      "execution_count": null,
      "outputs": [
        {
          "output_type": "execute_result",
          "data": {
            "text/plain": [
              "<AxesSubplot:>"
            ]
          },
          "metadata": {},
          "execution_count": 7
        },
        {
          "output_type": "display_data",
          "data": {
            "text/plain": [
              "<Figure size 432x288 with 2 Axes>"
            ],
            "image/png": "[encoded data removed]"
          },
          "metadata": {
            "needs_background": "light"
          }
        }
      ]
    },
    {
      "cell_type": "markdown",
      "source": [
        "Considere la matriz propuesta para este inciso como una matriz de adyacencia para un grafo\n",
        "\n",
        "\n",
        "## Utilice la estructura propuesta para encontrar todos los caminos que llevan de la ciudad A a la ciudad B."
      ],
      "metadata": {
        "id": "aEd-5oLmEM6V"
      }
    },
    {
      "cell_type": "markdown",
      "source": [
        "Inserte todas las celdas de código que considere necesarias"
      ],
      "metadata": {
        "id": "ZQXYlq4lFClQ"
      }
    },
    {
      "cell_type": "code",
      "source": [],
      "metadata": {
        "id": "88xz_yBkDwu9"
      },
      "execution_count": null,
      "outputs": []
    },
    {
      "cell_type": "markdown",
      "source": [
        "# 3."
      ],
      "metadata": {
        "id": "mOBlighnFDPq"
      }
    },
    {
      "cell_type": "markdown",
      "source": [
        "Existen un numero $n$ de ciudades conectadas por algun numero de vuelos. Usted tiene a su disposicion una lista de listas $flights$ donde $flights[i] = [from_{i} , to_{i}, cost_{i}]$ indicando que hay un vuelo desde la ciudad $from_{i}$ a la ciudad $to_{i}$ con un costo de $cost_{i}$.\n",
        "\n",
        "Tambien tiene 3 parametros iniciales de tipo entero `source`, `destination` y `num_max_stops`. Para este inciso debe crear uno o varios algoritmos que computen el costo mas bajo para poder ir desde `source` a `destination` con a lo mas `num_max_stops` paradas. Si no existe tal ruta, retornar -1. "
      ],
      "metadata": {
        "id": "FUZklevdGF1s"
      }
    },
    {
      "cell_type": "markdown",
      "source": [
        "### Example code for better undestanding"
      ],
      "metadata": {
        "id": "BN80daX4PVgM"
      }
    },
    {
      "cell_type": "code",
      "source": [
        "def convert_to_dict(flights: list):\n",
        "  distances = {}\n",
        "  for row in flights:\n",
        "      for i in range(0, len(row)-1, 2):\n",
        "          key_tuple = (row[0], row[1])\n",
        "          d = row[2]\n",
        "          if key_tuple in distances.keys():\n",
        "              if distances[key_tuple] != d:\n",
        "                  print(\"Warning: Found a conflicting distance for {}: {} and \"\n",
        "                        \"{}. Using last\".format(key_tuple, distances[key_tuple], d))\n",
        "          distances[key_tuple] = d\n",
        "  return distances\n",
        "\n",
        "def create_graph(distances: dict):\n",
        "  G = nx.DiGraph(directed = True)\n",
        "  for k, v in distances.items():\n",
        "      G.add_edge(k[0], k[1], weight=v)\n",
        "  return G\n",
        "\n",
        "def plot_graph(G, seed):\n",
        "  plt.figure(figsize=(4,5))\n",
        "\n",
        "  pos = nx.spring_layout(G, seed = seed)\n",
        "  edge_labels = nx.get_edge_attributes(G, \"weight\")\n",
        "\n",
        "  nx.draw_networkx(G, pos = pos)\n",
        "  nx.draw_networkx_edge_labels(G, pos, edge_labels)\n",
        "\n",
        "  plt.plot()"
      ],
      "metadata": {
        "id": "doiuYZRTPbQn"
      },
      "execution_count": null,
      "outputs": []
    },
    {
      "cell_type": "markdown",
      "source": [
        "### Example 1\n",
        "\n",
        "n = 4\n",
        "\n",
        "flights = [[0,1,50],[1,2,50],[2,0,50],[1,3,300],[2,3,150]]\n",
        "\n",
        "source = 0, destination = 3, num_max_stops = 1\n",
        "\n",
        "\n",
        "Respuesta esperada: 350\n",
        "Explicacion: Mirar el grafo :)"
      ],
      "metadata": {
        "id": "71k7DN1EO8l2"
      }
    },
    {
      "cell_type": "code",
      "source": [
        "flights = [[0,1,50],[1,2,50],[2,0,50],[1,3,300],[2,3,150]]"
      ],
      "metadata": {
        "id": "KpVDN7iEPGdQ"
      },
      "execution_count": null,
      "outputs": []
    },
    {
      "cell_type": "code",
      "source": [
        "seed = 1  # Seed random number generators for reproducibility\n",
        "plot_graph(create_graph(convert_to_dict(flights)), seed)"
      ],
      "metadata": {
        "colab": {
          "base_uri": "https://localhost:8080/",
          "height": 303
        },
        "id": "2o9xlYHJP_8n",
        "outputId": "6ef43be1-de87-4a20-d191-1c5b6d02c18d"
      },
      "execution_count": null,
      "outputs": [
        {
          "output_type": "display_data",
          "data": {
            "text/plain": [
              "<Figure size 288x360 with 1 Axes>"
            ],
            "image/png": "[encoded data removed]"
          },
          "metadata": {}
        }
      ]
    },
    {
      "cell_type": "markdown",
      "source": [
        "Inserte todas las celdas de código que considere necesarias"
      ],
      "metadata": {
        "id": "Cj9JlVltRsem"
      }
    },
    {
      "cell_type": "code",
      "source": [],
      "metadata": {
        "id": "zZitn-yHRpio"
      },
      "execution_count": null,
      "outputs": []
    },
    {
      "cell_type": "markdown",
      "source": [
        "### Example 2\n",
        "\n",
        "n = 3\n",
        "\n",
        "flights = [[0,1,50],[1,2,205],[0,2,60]]\n",
        "\n",
        "source = 0, destination = 2, num_max_stops = 0\n",
        "\n",
        "\n",
        "Respuesta esperada: 60\n",
        "Explicacion: Mirar el grafo :)"
      ],
      "metadata": {
        "id": "dlHsbVLXQqw9"
      }
    },
    {
      "cell_type": "code",
      "source": [
        "flights = [[0,1,50],[1,2,205],[0,2,60]]"
      ],
      "metadata": {
        "id": "DvGpyUWjL-1U"
      },
      "execution_count": null,
      "outputs": []
    },
    {
      "cell_type": "code",
      "source": [
        "seed = 60  # Seed random number generators for reproducibility\n",
        "plot_graph(create_graph(convert_to_dict(flights)), seed)"
      ],
      "metadata": {
        "colab": {
          "base_uri": "https://localhost:8080/",
          "height": 303
        },
        "id": "i2nu1U1jRI01",
        "outputId": "757ca5b1-cd31-4aaf-88d6-1d79ec8eb81a"
      },
      "execution_count": null,
      "outputs": [
        {
          "output_type": "display_data",
          "data": {
            "text/plain": [
              "<Figure size 288x360 with 1 Axes>"
            ],
            "image/png": "[encoded data removed]"
          },
          "metadata": {}
        }
      ]
    },
    {
      "cell_type": "markdown",
      "source": [
        "Inserte todas las celdas de código que considere necesarias"
      ],
      "metadata": {
        "id": "tTIXjEPURtNW"
      }
    },
    {
      "cell_type": "code",
      "source": [],
      "metadata": {
        "id": "bfG2JSkHRJuB"
      },
      "execution_count": null,
      "outputs": []
    },
    {
      "cell_type": "markdown",
      "source": [
        "# 4."
      ],
      "metadata": {
        "id": "z3CxRe_CRt21"
      }
    },
    {
      "cell_type": "markdown",
      "source": [
        "Usted tiene a su disposicion una lista de listas `coordinates` que representa coordenadas enteras en un plano 2D, donde $coordinates[i] = [x_i,y_i]$. \n",
        "\n",
        "El costo de crear una conexion entre dos puntos $[x_i,y_i]$ y $[x_j,y_j]$ puede ser computado con una metrica de distancia (por ejemplo, distancia euclidiana, distancia manhattan, etc. Para este problema usar la distancia manhattan pero igual, prueben como seria programar otras distancias), usando la distancia manhattan el costo seria:\n",
        "\n",
        "$$ d = \\left | x_i - x_j \\right| + \\left | y_i - y_j \\right | $$\n",
        "\n",
        "La generalizacion de esta formula es:\n",
        "\n",
        "$$ D(x, y) = ∑_{i = 1}^{k} \\left| x_i - y_i \\right| $$\n",
        "\n",
        "**Nota**: Si quieren intentar en sus casas con otras distancias pueden ver el siguiente link: [distancias](https://towardsdatascience.com/9-distance-measures-in-data-science-918109d069fa)\n",
        "\n",
        "Su tarea para este inciso es calcular el minimo costo para conectar todos los puntos. Puede asumir que todos los puntos estan conectados si existe exactamente un solo camino simple para cualquier par de puntos.\n",
        "\n",
        "Puede asumir que todos los puntos en `coordinates` son distintos."
      ],
      "metadata": {
        "id": "uAPCgsksRfvQ"
      }
    },
    {
      "cell_type": "markdown",
      "source": [
        "#### Example 1\n",
        "\n",
        "coordinates = [[0,0],[2,2],[3,10],[5,2],[7,0]]\n",
        "\n",
        "Respuesta esperada: 20"
      ],
      "metadata": {
        "id": "tg4Na4F6VRE7"
      }
    },
    {
      "cell_type": "code",
      "source": [
        "coordinates = np.array([[0,0],[2,2],[3,10],[5,2],[7,0]])"
      ],
      "metadata": {
        "id": "tZepXdFARvLX"
      },
      "execution_count": null,
      "outputs": []
    },
    {
      "cell_type": "code",
      "source": [
        "plt.plot(coordinates[:,0], coordinates[:,1], 'bo')\n",
        "plt.plot([0, 2], [0, 2], 'k-', lw=2)\n",
        "plt.plot([2, 3], [2, 10], 'k-', lw=2)\n",
        "plt.plot([2, 5], [2, 2], 'k-', lw=2)\n",
        "plt.plot([5, 7], [2, 0], 'k-', lw=2)\n",
        "\n",
        "for xy in zip(coordinates[:,0], coordinates[:,1]):\n",
        "   plt.annotate('(%.1f, %.1f)' % xy, xy=xy)\n",
        "\n",
        "y = np.arange(0, 10, 1)\n",
        "plt.yticks(y)\n",
        "plt.grid(True)\n",
        "\n",
        "plt.show()"
      ],
      "metadata": {
        "colab": {
          "base_uri": "https://localhost:8080/",
          "height": 265
        },
        "id": "2vgETvJBVpP5",
        "outputId": "16caa514-bfb6-46b9-f546-400ba6b79d1d"
      },
      "execution_count": null,
      "outputs": [
        {
          "output_type": "display_data",
          "data": {
            "text/plain": [
              "<Figure size 432x288 with 1 Axes>"
            ],
            "image/png": "[encoded data removed]"
          },
          "metadata": {
            "needs_background": "light"
          }
        }
      ]
    },
    {
      "cell_type": "markdown",
      "source": [
        "Inserte todas las celdas de código que considere necesarias"
      ],
      "metadata": {
        "id": "hPlGMSh8co-c"
      }
    },
    {
      "cell_type": "code",
      "source": [],
      "metadata": {
        "id": "PcaxXIlrcple"
      },
      "execution_count": null,
      "outputs": []
    },
    {
      "cell_type": "markdown",
      "source": [
        "#### Example 1\n",
        "\n",
        "coordinates = [[0,0],[3,5],[-2,4],[7,0]]\n",
        "\n",
        "Respuesta esperada: 19"
      ],
      "metadata": {
        "id": "zIzV5d4nbLp_"
      }
    },
    {
      "cell_type": "code",
      "source": [
        "coordinates = np.array([[0,0],[3,5],[-2,4],[7,0]])"
      ],
      "metadata": {
        "id": "eepoXKOcbR6f"
      },
      "execution_count": null,
      "outputs": []
    },
    {
      "cell_type": "code",
      "source": [
        "plt.plot(coordinates[:,0], coordinates[:,1], 'bo')\n",
        "plt.plot([-2, 3], [4, 5], 'k-', lw=2)\n",
        "plt.plot([-2, 0], [4, 0], 'k-', lw=2)\n",
        "plt.plot([0, 7], [0, 0], 'k-', lw=2)\n",
        "\n",
        "for xy in zip(coordinates[:,0], coordinates[:,1]):\n",
        "   plt.annotate('(%.1f, %.1f)' % xy, xy=xy)\n",
        "\n",
        "x = np.arange(-2, 8, 1)\n",
        "plt.xticks(x)\n",
        "y = np.arange(0, 10, 1)\n",
        "plt.yticks(y)\n",
        "\n",
        "plt.grid(True)\n",
        "\n",
        "plt.show()"
      ],
      "metadata": {
        "colab": {
          "base_uri": "https://localhost:8080/",
          "height": 269
        },
        "id": "aQvUCIVmbTpC",
        "outputId": "a23e72b1-de3a-4ebb-fb8b-654625562ae8"
      },
      "execution_count": null,
      "outputs": [
        {
          "output_type": "display_data",
          "data": {
            "text/plain": [
              "<Figure size 432x288 with 1 Axes>"
            ],
            "image/png": "[encoded data removed]"
          },
          "metadata": {
            "needs_background": "light"
          }
        }
      ]
    },
    {
      "cell_type": "markdown",
      "source": [
        "Inserte todas las celdas de código que considere necesarias"
      ],
      "metadata": {
        "id": "K9osv_YFcsxD"
      }
    },
    {
      "cell_type": "code",
      "source": [],
      "metadata": {
        "id": "F3PonWYzctPI"
      },
      "execution_count": null,
      "outputs": []
    },
    {
      "cell_type": "markdown",
      "source": [
        "# 5.\n",
        "\n",
        "Revisar el siguiente link: [5](https://leetcode.com/problems/find-the-city-with-the-smallest-number-of-neighbors-at-a-threshold-distance/)\n",
        "\n"
      ],
      "metadata": {
        "id": "wgx_xhM3R29Y"
      }
    },
    {
      "cell_type": "markdown",
      "source": [
        "Inserte todas las celdas de código que considere necesarias"
      ],
      "metadata": {
        "id": "-MSsQI54ct3Y"
      }
    },
    {
      "cell_type": "code",
      "source": [],
      "metadata": {
        "id": "7kr3ebLZR7Qh"
      },
      "execution_count": null,
      "outputs": []
    }
  ]
}